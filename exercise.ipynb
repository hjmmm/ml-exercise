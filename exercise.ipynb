{
 "cells": [
  {
   "cell_type": "markdown",
   "id": "476c1e1e",
   "metadata": {},
   "source": [
    "# ReLU Function\n",
    "In the context of artificial neural networks, the rectifier or ReLU (rectified linear unit) activation function[1][2] is an activation function defined as the non-negative part of its argument, i.e., the ramp function:\n",
    "\n",
    "    ReLU ⁡ ( x ) = x + = max ( 0 , x ) = x + | x | 2 = { x if  x > 0 , 0 x ≤ 0 {\\displaystyle \\operatorname {ReLU} (x)=x^{+}=\\max(0,x)={\\frac {x+|x|}{2}}={\\begin{cases}x&{\\text{if }}x>0,\\\\0&x\\leq 0\\end{cases}}}\n",
    "\n",
    "where x {\\displaystyle x} is the input to a neuron. This is analogous to half-wave rectification in electrical engineering. \n",
    "\n",
    "Taken from https://en.wikipedia.org/wiki/Rectifier_(neural_networks)"
   ]
  },
  {
   "cell_type": "code",
   "execution_count": 1,
   "id": "1842141e",
   "metadata": {},
   "outputs": [],
   "source": [
    "def relu (x):\n",
    "    # Add your code here\n",
    "\n",
    "    return 5"
   ]
  },
  {
   "cell_type": "markdown",
   "id": "4a3379d4",
   "metadata": {},
   "source": [
    "Explain test cases"
   ]
  },
  {
   "cell_type": "code",
   "execution_count": 2,
   "id": "30cfcb6b",
   "metadata": {},
   "outputs": [
    {
     "name": "stdout",
     "output_type": "stream",
     "text": [
      "Requirement already satisfied: pytest in /home/javier/anaconda3/lib/python3.12/site-packages (7.4.4)\n",
      "Requirement already satisfied: ipytest in /home/javier/anaconda3/lib/python3.12/site-packages (0.14.2)\n",
      "Requirement already satisfied: iniconfig in /home/javier/anaconda3/lib/python3.12/site-packages (from pytest) (1.1.1)\n",
      "Requirement already satisfied: packaging in /home/javier/anaconda3/lib/python3.12/site-packages (from pytest) (24.1)\n",
      "Requirement already satisfied: pluggy<2.0,>=0.12 in /home/javier/anaconda3/lib/python3.12/site-packages (from pytest) (1.0.0)\n",
      "Requirement already satisfied: ipython in /home/javier/anaconda3/lib/python3.12/site-packages (from ipytest) (8.27.0)\n",
      "Requirement already satisfied: decorator in /home/javier/anaconda3/lib/python3.12/site-packages (from ipython->ipytest) (5.1.1)\n",
      "Requirement already satisfied: jedi>=0.16 in /home/javier/anaconda3/lib/python3.12/site-packages (from ipython->ipytest) (0.19.1)\n",
      "Requirement already satisfied: matplotlib-inline in /home/javier/anaconda3/lib/python3.12/site-packages (from ipython->ipytest) (0.1.6)\n",
      "Requirement already satisfied: prompt-toolkit<3.1.0,>=3.0.41 in /home/javier/anaconda3/lib/python3.12/site-packages (from ipython->ipytest) (3.0.43)\n",
      "Requirement already satisfied: pygments>=2.4.0 in /home/javier/anaconda3/lib/python3.12/site-packages (from ipython->ipytest) (2.15.1)\n",
      "Requirement already satisfied: stack-data in /home/javier/anaconda3/lib/python3.12/site-packages (from ipython->ipytest) (0.2.0)\n",
      "Requirement already satisfied: traitlets>=5.13.0 in /home/javier/anaconda3/lib/python3.12/site-packages (from ipython->ipytest) (5.14.3)\n",
      "Requirement already satisfied: pexpect>4.3 in /home/javier/anaconda3/lib/python3.12/site-packages (from ipython->ipytest) (4.8.0)\n",
      "Requirement already satisfied: parso<0.9.0,>=0.8.3 in /home/javier/anaconda3/lib/python3.12/site-packages (from jedi>=0.16->ipython->ipytest) (0.8.3)\n",
      "Requirement already satisfied: ptyprocess>=0.5 in /home/javier/anaconda3/lib/python3.12/site-packages (from pexpect>4.3->ipython->ipytest) (0.7.0)\n",
      "Requirement already satisfied: wcwidth in /home/javier/anaconda3/lib/python3.12/site-packages (from prompt-toolkit<3.1.0,>=3.0.41->ipython->ipytest) (0.2.5)\n",
      "Requirement already satisfied: executing in /home/javier/anaconda3/lib/python3.12/site-packages (from stack-data->ipython->ipytest) (0.8.3)\n",
      "Requirement already satisfied: asttokens in /home/javier/anaconda3/lib/python3.12/site-packages (from stack-data->ipython->ipytest) (2.0.5)\n",
      "Requirement already satisfied: pure-eval in /home/javier/anaconda3/lib/python3.12/site-packages (from stack-data->ipython->ipytest) (0.2.2)\n",
      "Requirement already satisfied: six in /home/javier/anaconda3/lib/python3.12/site-packages (from asttokens->stack-data->ipython->ipytest) (1.16.0)\n",
      "Note: you may need to restart the kernel to use updated packages.\n"
     ]
    }
   ],
   "source": [
    "# Install the required modules to execute pytest inside the notebook\n",
    "%pip install pytest ipytest"
   ]
  },
  {
   "cell_type": "code",
   "execution_count": null,
   "id": "1e01b69c",
   "metadata": {},
   "outputs": [
    {
     "name": "stdout",
     "output_type": "stream",
     "text": [
      "\u001b[31mF\u001b[0m\u001b[31mF\u001b[0m\u001b[31mF\u001b[0m\u001b[31mF\u001b[0m\u001b[31mF\u001b[0m\u001b[31mF\u001b[0m\n",
      "============================================= FAILURES =============================================\n",
      "\u001b[31m\u001b[1m__________________________ test_relu_should_returns_0_for_negative_values __________________________\u001b[0m\n",
      "\n",
      "    \u001b[94mdef\u001b[39;49;00m \u001b[92mtest_relu_should_returns_0_for_negative_values\u001b[39;49;00m():\u001b[90m\u001b[39;49;00m\n",
      "        message = \u001b[33m\"\u001b[39;49;00m\u001b[33mThe result of the ReLU function for any negative value should be zero (0)\u001b[39;49;00m\u001b[33m\"\u001b[39;49;00m\u001b[90m\u001b[39;49;00m\n",
      ">       \u001b[94massert\u001b[39;49;00m solution(-\u001b[94m0.001\u001b[39;49;00m) == \u001b[94m0\u001b[39;49;00m, message\u001b[90m\u001b[39;49;00m\n",
      "\u001b[1m\u001b[31mE       AssertionError: The result of the ReLU function for any negative value should be zero (0)\u001b[0m\n",
      "\n",
      "\u001b[1m\u001b[31m/tmp/ipykernel_33272/3588552439.py\u001b[0m:8: AssertionError\n",
      "\u001b[31m\u001b[1m____________________________ test_relu_should_returns_0_for_zero_value _____________________________\u001b[0m\n",
      "\n",
      "    \u001b[94mdef\u001b[39;49;00m \u001b[92mtest_relu_should_returns_0_for_zero_value\u001b[39;49;00m():\u001b[90m\u001b[39;49;00m\n",
      ">       \u001b[94massert\u001b[39;49;00m solution(\u001b[94m0\u001b[39;49;00m) == \u001b[94m0\u001b[39;49;00m, \u001b[33m\"\u001b[39;49;00m\u001b[33mThe result of the ReLU function for zero (0) value should be zero (0)\u001b[39;49;00m\u001b[33m\"\u001b[39;49;00m\u001b[90m\u001b[39;49;00m\n",
      "\u001b[1m\u001b[31mE       AssertionError: The result of the ReLU function for zero (0) value should be zero (0)\u001b[0m\n",
      "\n",
      "\u001b[1m\u001b[31m/tmp/ipykernel_33272/3588552439.py\u001b[0m:14: AssertionError\n",
      "\u001b[31m\u001b[1m__________________________ test_relu_should_returns_x_for_positive_values __________________________\u001b[0m\n",
      "\n",
      "    \u001b[94mdef\u001b[39;49;00m \u001b[92mtest_relu_should_returns_x_for_positive_values\u001b[39;49;00m():\u001b[90m\u001b[39;49;00m\n",
      "        message = \u001b[33m\"\u001b[39;49;00m\u001b[33mThe result of the ReLU function for any positive value should be the same value\u001b[39;49;00m\u001b[33m\"\u001b[39;49;00m\u001b[90m\u001b[39;49;00m\n",
      ">       \u001b[94massert\u001b[39;49;00m solution(\u001b[94m0.001\u001b[39;49;00m) == \u001b[94m0.001\u001b[39;49;00m, message\u001b[90m\u001b[39;49;00m\n",
      "\u001b[1m\u001b[31mE       AssertionError: The result of the ReLU function for any positive value should be the same value\u001b[0m\n",
      "\n",
      "\u001b[1m\u001b[31m/tmp/ipykernel_33272/3588552439.py\u001b[0m:18: AssertionError\n",
      "\u001b[31m\u001b[1m__________________________ test_relu_should_returns_0_for_negative_values __________________________\u001b[0m\n",
      "\n",
      "    \u001b[94mdef\u001b[39;49;00m \u001b[92mtest_relu_should_returns_0_for_negative_values\u001b[39;49;00m():\u001b[90m\u001b[39;49;00m\n",
      "        message = \u001b[33m\"\u001b[39;49;00m\u001b[33mThe result of the ReLU function for any negative value should be zero (0)\u001b[39;49;00m\u001b[33m\"\u001b[39;49;00m\u001b[90m\u001b[39;49;00m\n",
      ">       \u001b[94massert\u001b[39;49;00m solution(-\u001b[94m0.001\u001b[39;49;00m) == \u001b[94m0\u001b[39;49;00m, message\u001b[90m\u001b[39;49;00m\n",
      "\u001b[1m\u001b[31mE       AssertionError: The result of the ReLU function for any negative value should be zero (0)\u001b[0m\n",
      "\n",
      "\u001b[1m\u001b[31m/tmp/ipykernel_33272/3588552439.py\u001b[0m:8: AssertionError\n",
      "\u001b[31m\u001b[1m____________________________ test_relu_should_returns_0_for_zero_value _____________________________\u001b[0m\n",
      "\n",
      "    \u001b[94mdef\u001b[39;49;00m \u001b[92mtest_relu_should_returns_0_for_zero_value\u001b[39;49;00m():\u001b[90m\u001b[39;49;00m\n",
      ">       \u001b[94massert\u001b[39;49;00m solution(\u001b[94m0\u001b[39;49;00m) == \u001b[94m0\u001b[39;49;00m, \u001b[33m\"\u001b[39;49;00m\u001b[33mThe result of the ReLU function for zero (0) value should be zero (0)\u001b[39;49;00m\u001b[33m\"\u001b[39;49;00m\u001b[90m\u001b[39;49;00m\n",
      "\u001b[1m\u001b[31mE       AssertionError: The result of the ReLU function for zero (0) value should be zero (0)\u001b[0m\n",
      "\n",
      "\u001b[1m\u001b[31m/tmp/ipykernel_33272/3588552439.py\u001b[0m:14: AssertionError\n",
      "\u001b[31m\u001b[1m__________________________ test_relu_should_returns_x_for_positive_values __________________________\u001b[0m\n",
      "\n",
      "    \u001b[94mdef\u001b[39;49;00m \u001b[92mtest_relu_should_returns_x_for_positive_values\u001b[39;49;00m():\u001b[90m\u001b[39;49;00m\n",
      "        message = \u001b[33m\"\u001b[39;49;00m\u001b[33mThe result of the ReLU function for any positive value should be the same value\u001b[39;49;00m\u001b[33m\"\u001b[39;49;00m\u001b[90m\u001b[39;49;00m\n",
      ">       \u001b[94massert\u001b[39;49;00m solution(\u001b[94m0.001\u001b[39;49;00m) == \u001b[94m0.001\u001b[39;49;00m, message\u001b[90m\u001b[39;49;00m\n",
      "\u001b[1m\u001b[31mE       AssertionError: The result of the ReLU function for any positive value should be the same value\u001b[0m\n",
      "\n",
      "\u001b[1m\u001b[31m/tmp/ipykernel_33272/3588552439.py\u001b[0m:18: AssertionError\n",
      "\u001b[36m\u001b[1m===================================== short test summary info ======================================\u001b[0m\n",
      "\u001b[31mFAILED\u001b[0m t_e141104bb835464f8652db44d18d808b.py::\u001b[1mtest_relu_should_returns_0_for_negative_values\u001b[0m - AssertionError: The result of the ReLU function for any negative value should be zero (0)\n",
      "\u001b[31mFAILED\u001b[0m t_e141104bb835464f8652db44d18d808b.py::\u001b[1mtest_relu_should_returns_0_for_zero_value\u001b[0m - AssertionError: The result of the ReLU function for zero (0) value should be zero (0)\n",
      "\u001b[31mFAILED\u001b[0m t_e141104bb835464f8652db44d18d808b.py::\u001b[1mtest_relu_should_returns_x_for_positive_values\u001b[0m - AssertionError: The result of the ReLU function for any positive value should be the same value\n",
      "\u001b[31mFAILED\u001b[0m t_e141104bb835464f8652db44d18d808b.py::\u001b[1mtest_relu_should_returns_0_for_negative_values\u001b[0m - AssertionError: The result of the ReLU function for any negative value should be zero (0)\n",
      "\u001b[31mFAILED\u001b[0m t_e141104bb835464f8652db44d18d808b.py::\u001b[1mtest_relu_should_returns_0_for_zero_value\u001b[0m - AssertionError: The result of the ReLU function for zero (0) value should be zero (0)\n",
      "\u001b[31mFAILED\u001b[0m t_e141104bb835464f8652db44d18d808b.py::\u001b[1mtest_relu_should_returns_x_for_positive_values\u001b[0m - AssertionError: The result of the ReLU function for any positive value should be the same value\n",
      "\u001b[31m\u001b[31m\u001b[1m6 failed\u001b[0m\u001b[31m in 0.06s\u001b[0m\u001b[0m\n"
     ]
    },
    {
     "data": {
      "text/plain": [
       "<ExitCode.TESTS_FAILED: 1>"
      ]
     },
     "execution_count": 3,
     "metadata": {},
     "output_type": "execute_result"
    }
   ],
   "source": [
    "import ipytest\n",
    "\n",
    "ipytest.autoconfig()\n",
    "verbosity = \"-vv\"\n",
    "\n",
    "def test_relu_should_returns_0_for_negative_values():\n",
    "    message = \"The result of the ReLU function for any negative value should be zero (0)\"\n",
    "    assert solution(-0.001) == 0, message\n",
    "    assert solution(-0.1) == 0, message\n",
    "    assert solution(-5) == 0, message\n",
    "    assert solution(-20) == 0, message\n",
    "\n",
    "def test_relu_should_returns_0_for_zero_value():\n",
    "    assert solution(0) == 0, \"The result of the ReLU function for zero (0) value should be zero (0)\"\n",
    "\n",
    "def test_relu_should_returns_x_for_positive_values():\n",
    "    message = \"The result of the ReLU function for any positive value should be the same value\"\n",
    "    assert solution(0.001) == 0.001, message\n",
    "    assert solution(0.5) == 0.5, message\n",
    "    assert solution(1) == 1, message\n",
    "    assert solution(15) == 15, message\n",
    "    assert solution(15.001) == 15.001, message\n",
    "\n",
    "solution = relu\n",
    "\n",
    "ipytest.run(verbosity)"
   ]
  },
  {
   "cell_type": "markdown",
   "id": "19e2eb4e",
   "metadata": {},
   "source": [
    "Explain solution\n"
   ]
  },
  {
   "cell_type": "code",
   "execution_count": 4,
   "id": "bfca1dad",
   "metadata": {},
   "outputs": [
    {
     "name": "stdout",
     "output_type": "stream",
     "text": [
      "\u001b[32m.\u001b[0m\u001b[32m.\u001b[0m\u001b[32m.\u001b[0m\u001b[32m.\u001b[0m\u001b[32m.\u001b[0m\u001b[32m.\u001b[0m\n",
      "\u001b[32m\u001b[32m\u001b[1m6 passed\u001b[0m\u001b[32m in 0.01s\u001b[0m\u001b[0m\n"
     ]
    },
    {
     "data": {
      "text/plain": [
       "<ExitCode.OK: 0>"
      ]
     },
     "execution_count": 4,
     "metadata": {},
     "output_type": "execute_result"
    }
   ],
   "source": [
    "# Solution using the max function\n",
    "\n",
    "def relu_solution_1(x):\n",
    "    return max(0, x)\n",
    "\n",
    "solution = relu_solution_1\n",
    "\n",
    "ipytest.run(verbosity)"
   ]
  },
  {
   "cell_type": "code",
   "execution_count": 5,
   "id": "fb2afcb9",
   "metadata": {},
   "outputs": [
    {
     "name": "stdout",
     "output_type": "stream",
     "text": [
      "\u001b[32m.\u001b[0m\u001b[32m.\u001b[0m\u001b[32m.\u001b[0m\u001b[32m.\u001b[0m\u001b[32m.\u001b[0m\u001b[32m.\u001b[0m\n",
      "\u001b[32m\u001b[32m\u001b[1m6 passed\u001b[0m\u001b[32m in 0.01s\u001b[0m\u001b[0m\n"
     ]
    },
    {
     "data": {
      "text/plain": [
       "<ExitCode.OK: 0>"
      ]
     },
     "execution_count": 5,
     "metadata": {},
     "output_type": "execute_result"
    }
   ],
   "source": [
    "# Solution with a function using absolute value\n",
    "\n",
    "def relu_solution_2(x):\n",
    "    return (x + abs(x)) / 2\n",
    "\n",
    "solution = relu_solution_2\n",
    "\n",
    "ipytest.run(verbosity)"
   ]
  },
  {
   "cell_type": "code",
   "execution_count": 6,
   "id": "de196e32",
   "metadata": {},
   "outputs": [
    {
     "name": "stdout",
     "output_type": "stream",
     "text": [
      "\u001b[32m.\u001b[0m\u001b[32m.\u001b[0m\u001b[32m.\u001b[0m\u001b[32m.\u001b[0m\u001b[32m.\u001b[0m\u001b[32m.\u001b[0m\n",
      "\u001b[32m\u001b[32m\u001b[1m6 passed\u001b[0m\u001b[32m in 0.01s\u001b[0m\u001b[0m\n"
     ]
    },
    {
     "data": {
      "text/plain": [
       "<ExitCode.OK: 0>"
      ]
     },
     "execution_count": 6,
     "metadata": {},
     "output_type": "execute_result"
    }
   ],
   "source": [
    "# Solution with a function using an if\n",
    "\n",
    "def relu_solution_3(x):\n",
    "    if x > 0:\n",
    "        return x\n",
    "    return 0\n",
    "\n",
    "solution = relu_solution_3\n",
    "\n",
    "ipytest.run(verbosity)"
   ]
  }
 ],
 "metadata": {
  "kernelspec": {
   "display_name": "base",
   "language": "python",
   "name": "python3"
  },
  "language_info": {
   "codemirror_mode": {
    "name": "ipython",
    "version": 3
   },
   "file_extension": ".py",
   "mimetype": "text/x-python",
   "name": "python",
   "nbconvert_exporter": "python",
   "pygments_lexer": "ipython3",
   "version": "3.12.7"
  }
 },
 "nbformat": 4,
 "nbformat_minor": 5
}
